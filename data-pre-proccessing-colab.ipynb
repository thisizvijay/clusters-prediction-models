{
 "cells": [
  {
   "cell_type": "code",
   "execution_count": 1,
   "metadata": {
    "colab": {
     "base_uri": "https://localhost:8080/"
    },
    "id": "5mrQET8e1ewO",
    "outputId": "1a496a61-fdb9-48d4-e723-b8f680a7ca86"
   },
   "outputs": [
    {
     "name": "stdout",
     "output_type": "stream",
     "text": [
      "Python 3.10.12\n"
     ]
    }
   ],
   "source": [
    "# Check Python Version\n",
    "!python --version"
   ]
  },
  {
   "cell_type": "code",
   "execution_count": 2,
   "metadata": {
    "colab": {
     "base_uri": "https://localhost:8080/"
    },
    "id": "OiGQeQZz1l-h",
    "outputId": "78831081-a36f-45ab-f363-b3c6008f3b67"
   },
   "outputs": [
    {
     "name": "stdout",
     "output_type": "stream",
     "text": [
      "No LSB modules are available.\n",
      "Distributor ID:\tUbuntu\n",
      "Description:\tUbuntu 22.04.2 LTS\n",
      "Release:\t22.04\n",
      "Codename:\tjammy\n"
     ]
    }
   ],
   "source": [
    "# Check Ubuntu Version\n",
    "!lsb_release -a"
   ]
  },
  {
   "cell_type": "code",
   "execution_count": 3,
   "metadata": {
    "colab": {
     "base_uri": "https://localhost:8080/"
    },
    "id": "6AiVobbr1nma",
    "outputId": "dd941bf9-3f21-4ea3-a9b9-0fe6bb43c881"
   },
   "outputs": [
    {
     "name": "stdout",
     "output_type": "stream",
     "text": [
      "nvcc: NVIDIA (R) Cuda compiler driver\n",
      "Copyright (c) 2005-2022 NVIDIA Corporation\n",
      "Built on Wed_Sep_21_10:33:58_PDT_2022\n",
      "Cuda compilation tools, release 11.8, V11.8.89\n",
      "Build cuda_11.8.r11.8/compiler.31833905_0\n",
      "/usr/local/cuda/bin/nvcc\n"
     ]
    }
   ],
   "source": [
    "# Check CUDA/cuDNN Version\n",
    "!nvcc -V && which nvcc"
   ]
  },
  {
   "cell_type": "code",
   "execution_count": 4,
   "metadata": {
    "colab": {
     "base_uri": "https://localhost:8080/"
    },
    "id": "oc6GBk0l1pbc",
    "outputId": "eafd6b48-8a8b-4ad8-f304-7bb46130db44"
   },
   "outputs": [
    {
     "name": "stdout",
     "output_type": "stream",
     "text": [
      "Sun Aug 20 21:25:23 2023       \n",
      "+-----------------------------------------------------------------------------+\n",
      "| NVIDIA-SMI 525.105.17   Driver Version: 525.105.17   CUDA Version: 12.0     |\n",
      "|-------------------------------+----------------------+----------------------+\n",
      "| GPU  Name        Persistence-M| Bus-Id        Disp.A | Volatile Uncorr. ECC |\n",
      "| Fan  Temp  Perf  Pwr:Usage/Cap|         Memory-Usage | GPU-Util  Compute M. |\n",
      "|                               |                      |               MIG M. |\n",
      "|===============================+======================+======================|\n",
      "|   0  Tesla T4            Off  | 00000000:00:04.0 Off |                    0 |\n",
      "| N/A   53C    P8    10W /  70W |      0MiB / 15360MiB |      0%      Default |\n",
      "|                               |                      |                  N/A |\n",
      "+-------------------------------+----------------------+----------------------+\n",
      "                                                                               \n",
      "+-----------------------------------------------------------------------------+\n",
      "| Processes:                                                                  |\n",
      "|  GPU   GI   CI        PID   Type   Process name                  GPU Memory |\n",
      "|        ID   ID                                                   Usage      |\n",
      "|=============================================================================|\n",
      "|  No running processes found                                                 |\n",
      "+-----------------------------------------------------------------------------+\n"
     ]
    }
   ],
   "source": [
    "# Check GPU\n",
    "!nvidia-smi"
   ]
  },
  {
   "cell_type": "code",
   "execution_count": 5,
   "metadata": {
    "colab": {
     "base_uri": "https://localhost:8080/"
    },
    "id": "2LFg1NmV1sNv",
    "outputId": "8f7006ea-8ba3-4a15-948a-dde6cf573a46"
   },
   "outputs": [
    {
     "name": "stdout",
     "output_type": "stream",
     "text": [
      "Cloning into 'rapidsai-csp-utils'...\n",
      "remote: Enumerating objects: 390, done.\u001b[K\n",
      "remote: Counting objects: 100% (121/121), done.\u001b[K\n",
      "remote: Compressing objects: 100% (70/70), done.\u001b[K\n",
      "remote: Total 390 (delta 89), reused 51 (delta 51), pack-reused 269\u001b[K\n",
      "Receiving objects: 100% (390/390), 107.11 KiB | 5.95 MiB/s, done.\n",
      "Resolving deltas: 100% (191/191), done.\n",
      "Collecting pynvml\n",
      "  Downloading pynvml-11.5.0-py3-none-any.whl (53 kB)\n",
      "     ━━━━━━━━━━━━━━━━━━━━━━━━━━━━━━━━━━━━━━━━ 53.1/53.1 kB 2.0 MB/s eta 0:00:00\n",
      "Installing collected packages: pynvml\n",
      "Successfully installed pynvml-11.5.0\n",
      "***********************************************************************\n",
      "Woo! Your instance has the right kind of GPU, a Tesla T4!\n",
      "We will now install RAPIDS cuDF, cuML, and cuGraph via pip! \n",
      "Please stand by, should be quick...\n",
      "***********************************************************************\n",
      "\n",
      "Looking in indexes: https://pypi.org/simple, https://pypi.nvidia.com\n",
      "Collecting cudf-cu11\n",
      "  Downloading https://pypi.nvidia.com/cudf-cu11/cudf_cu11-23.8.0-cp310-cp310-manylinux_2_17_x86_64.manylinux2014_x86_64.whl (499.6 MB)\n",
      "     ━━━━━━━━━━━━━━━━━━━━━━━━━━━━━━━━━━━━━━━ 499.6/499.6 MB 3.4 MB/s eta 0:00:00\n",
      "Collecting cuml-cu11\n",
      "  Downloading https://pypi.nvidia.com/cuml-cu11/cuml_cu11-23.8.0-cp310-cp310-manylinux_2_17_x86_64.manylinux2014_x86_64.whl (1081.6 MB)\n",
      "     ━━━━━━━━━━━━━━━━━━━━━━━━━━━━━━━━━━━━━━━━ 1.1/1.1 GB 1.0 MB/s eta 0:00:00\n",
      "Collecting cugraph-cu11\n",
      "  Downloading https://pypi.nvidia.com/cugraph-cu11/cugraph_cu11-23.8.0-cp310-cp310-manylinux_2_17_x86_64.manylinux2014_x86_64.whl (1212.4 MB)\n",
      "     ━━━━━━━━━━━━━━━━━━━━━━━━━━━━━━━━━━━━━━━━ 1.2/1.2 GB 1.5 MB/s eta 0:00:00\n",
      "Requirement already satisfied: aiohttp in /usr/local/lib/python3.10/dist-packages (3.8.5)\n",
      "Requirement already satisfied: cachetools in /usr/local/lib/python3.10/dist-packages (from cudf-cu11) (5.3.1)\n",
      "Collecting cubinlinker-cu11 (from cudf-cu11)\n",
      "  Downloading https://pypi.nvidia.com/cubinlinker-cu11/cubinlinker_cu11-0.3.0.post1-cp310-cp310-manylinux_2_17_x86_64.manylinux2014_x86_64.whl (8.8 MB)\n",
      "     ━━━━━━━━━━━━━━━━━━━━━━━━━━━━━━━━━━━━━━━━ 8.8/8.8 MB 100.3 MB/s eta 0:00:00\n",
      "Collecting cuda-python<12.0a0,>=11.7.1 (from cudf-cu11)\n",
      "  Downloading cuda_python-11.8.2-cp310-cp310-manylinux_2_17_x86_64.manylinux2014_x86_64.whl (16.5 MB)\n",
      "     ━━━━━━━━━━━━━━━━━━━━━━━━━━━━━━━━━━━━━━━━ 16.5/16.5 MB 72.8 MB/s eta 0:00:00\n",
      "Collecting cupy-cuda11x>=12.0.0 (from cudf-cu11)\n",
      "  Downloading cupy_cuda11x-12.2.0-cp310-cp310-manylinux2014_x86_64.whl (89.6 MB)\n",
      "     ━━━━━━━━━━━━━━━━━━━━━━━━━━━━━━━━━━━━━━━━ 89.6/89.6 MB 9.2 MB/s eta 0:00:00\n",
      "Requirement already satisfied: fsspec>=0.6.0 in /usr/local/lib/python3.10/dist-packages (from cudf-cu11) (2023.6.0)\n",
      "Collecting numba>=0.57 (from cudf-cu11)\n",
      "  Downloading numba-0.57.1-cp310-cp310-manylinux2014_x86_64.manylinux_2_17_x86_64.whl (3.6 MB)\n",
      "     ━━━━━━━━━━━━━━━━━━━━━━━━━━━━━━━━━━━━━━━━ 3.6/3.6 MB 99.1 MB/s eta 0:00:00\n",
      "Requirement already satisfied: numpy>=1.21 in /usr/local/lib/python3.10/dist-packages (from cudf-cu11) (1.23.5)\n",
      "Collecting nvtx>=0.2.1 (from cudf-cu11)\n",
      "  Downloading nvtx-0.2.6-cp310-cp310-manylinux_2_17_x86_64.manylinux2014_x86_64.whl (553 kB)\n",
      "     ━━━━━━━━━━━━━━━━━━━━━━━━━━━━━━━━━━━━━━ 553.1/553.1 kB 46.4 MB/s eta 0:00:00\n",
      "Requirement already satisfied: packaging in /usr/local/lib/python3.10/dist-packages (from cudf-cu11) (23.1)\n",
      "Requirement already satisfied: pandas<1.6.0dev0,>=1.3 in /usr/local/lib/python3.10/dist-packages (from cudf-cu11) (1.5.3)\n",
      "Collecting protobuf<5,>=4.21 (from cudf-cu11)\n",
      "  Downloading protobuf-4.24.1-cp37-abi3-manylinux2014_x86_64.whl (311 kB)\n",
      "     ━━━━━━━━━━━━━━━━━━━━━━━━━━━━━━━━━━━━━━ 311.4/311.4 kB 37.4 MB/s eta 0:00:00\n",
      "Collecting ptxcompiler-cu11 (from cudf-cu11)\n",
      "  Downloading https://pypi.nvidia.com/ptxcompiler-cu11/ptxcompiler_cu11-0.7.0.post1-cp310-cp310-manylinux_2_17_x86_64.manylinux2014_x86_64.whl (8.8 MB)\n",
      "     ━━━━━━━━━━━━━━━━━━━━━━━━━━━━━━━━━━━━━━━━ 8.8/8.8 MB 112.6 MB/s eta 0:00:00\n",
      "Collecting pyarrow==11.* (from cudf-cu11)\n",
      "  Downloading pyarrow-11.0.0-cp310-cp310-manylinux_2_17_x86_64.manylinux2014_x86_64.whl (34.9 MB)\n",
      "     ━━━━━━━━━━━━━━━━━━━━━━━━━━━━━━━━━━━━━━━━ 34.9/34.9 MB 17.6 MB/s eta 0:00:00\n",
      "Collecting rmm-cu11==23.8.* (from cudf-cu11)\n",
      "  Downloading https://pypi.nvidia.com/rmm-cu11/rmm_cu11-23.8.0-cp310-cp310-manylinux_2_17_x86_64.manylinux2014_x86_64.whl (1.7 MB)\n",
      "     ━━━━━━━━━━━━━━━━━━━━━━━━━━━━━━━━━━━━━━━━ 1.7/1.7 MB 87.5 MB/s eta 0:00:00\n",
      "Requirement already satisfied: typing-extensions>=4.0.0 in /usr/local/lib/python3.10/dist-packages (from cudf-cu11) (4.7.1)\n",
      "Collecting dask-cuda==23.8.* (from cuml-cu11)\n",
      "  Downloading dask_cuda-23.8.0-py3-none-any.whl (122 kB)\n",
      "     ━━━━━━━━━━━━━━━━━━━━━━━━━━━━━━━━━━━━━━ 122.0/122.0 kB 15.9 MB/s eta 0:00:00\n",
      "Collecting dask-cudf-cu11==23.8.* (from cuml-cu11)\n",
      "  Downloading https://pypi.nvidia.com/dask-cudf-cu11/dask_cudf_cu11-23.8.0-py3-none-any.whl (81 kB)\n",
      "     ━━━━━━━━━━━━━━━━━━━━━━━━━━━━━━━━━━━━━━━━ 81.6/81.6 kB 12.6 MB/s eta 0:00:00\n",
      "Collecting dask==2023.7.1 (from cuml-cu11)\n",
      "  Downloading dask-2023.7.1-py3-none-any.whl (1.2 MB)\n",
      "     ━━━━━━━━━━━━━━━━━━━━━━━━━━━━━━━━━━━━━━━━ 1.2/1.2 MB 77.4 MB/s eta 0:00:00\n",
      "Collecting distributed==2023.7.1 (from cuml-cu11)\n",
      "  Downloading distributed-2023.7.1-py3-none-any.whl (985 kB)\n",
      "     ━━━━━━━━━━━━━━━━━━━━━━━━━━━━━━━━━━━━━━ 985.5/985.5 kB 67.6 MB/s eta 0:00:00\n",
      "Requirement already satisfied: joblib>=0.11 in /usr/local/lib/python3.10/dist-packages (from cuml-cu11) (1.3.2)\n",
      "Collecting raft-dask-cu11==23.8.* (from cuml-cu11)\n",
      "  Downloading https://pypi.nvidia.com/raft-dask-cu11/raft_dask_cu11-23.8.0-cp310-cp310-manylinux_2_17_x86_64.manylinux2014_x86_64.whl (214.7 MB)\n",
      "     ━━━━━━━━━━━━━━━━━━━━━━━━━━━━━━━━━━━━━━━ 214.7/214.7 MB 5.6 MB/s eta 0:00:00\n",
      "Requirement already satisfied: scipy>=1.8.0 in /usr/local/lib/python3.10/dist-packages (from cuml-cu11) (1.10.1)\n",
      "Collecting treelite==3.2.0 (from cuml-cu11)\n",
      "  Downloading treelite-3.2.0-py3-none-manylinux2014_x86_64.whl (1.0 MB)\n",
      "     ━━━━━━━━━━━━━━━━━━━━━━━━━━━━━━━━━━━━━━━━ 1.0/1.0 MB 76.4 MB/s eta 0:00:00\n",
      "Collecting treelite-runtime==3.2.0 (from cuml-cu11)\n",
      "  Downloading treelite_runtime-3.2.0-py3-none-manylinux2014_x86_64.whl (198 kB)\n",
      "     ━━━━━━━━━━━━━━━━━━━━━━━━━━━━━━━━━━━━━━ 198.2/198.2 kB 24.9 MB/s eta 0:00:00\n",
      "Requirement already satisfied: click>=8.0 in /usr/local/lib/python3.10/dist-packages (from dask==2023.7.1->cuml-cu11) (8.1.6)\n",
      "Requirement already satisfied: cloudpickle>=1.5.0 in /usr/local/lib/python3.10/dist-packages (from dask==2023.7.1->cuml-cu11) (2.2.1)\n",
      "Requirement already satisfied: partd>=1.2.0 in /usr/local/lib/python3.10/dist-packages (from dask==2023.7.1->cuml-cu11) (1.4.0)\n",
      "Requirement already satisfied: pyyaml>=5.3.1 in /usr/local/lib/python3.10/dist-packages (from dask==2023.7.1->cuml-cu11) (6.0.1)\n",
      "Requirement already satisfied: toolz>=0.10.0 in /usr/local/lib/python3.10/dist-packages (from dask==2023.7.1->cuml-cu11) (0.12.0)\n",
      "Requirement already satisfied: importlib-metadata>=4.13.0 in /usr/local/lib/python3.10/dist-packages (from dask==2023.7.1->cuml-cu11) (6.8.0)\n",
      "Collecting pynvml<11.5,>=11.0.0 (from dask-cuda==23.8.*->cuml-cu11)\n",
      "  Downloading pynvml-11.4.1-py3-none-any.whl (46 kB)\n",
      "     ━━━━━━━━━━━━━━━━━━━━━━━━━━━━━━━━━━━━━━━━ 47.0/47.0 kB 6.3 MB/s eta 0:00:00\n",
      "Requirement already satisfied: zict>=2.0.0 in /usr/local/lib/python3.10/dist-packages (from dask-cuda==23.8.*->cuml-cu11) (3.0.0)\n",
      "Requirement already satisfied: jinja2>=2.10.3 in /usr/local/lib/python3.10/dist-packages (from distributed==2023.7.1->cuml-cu11) (3.1.2)\n",
      "Requirement already satisfied: locket>=1.0.0 in /usr/local/lib/python3.10/dist-packages (from distributed==2023.7.1->cuml-cu11) (1.0.0)\n",
      "Requirement already satisfied: msgpack>=1.0.0 in /usr/local/lib/python3.10/dist-packages (from distributed==2023.7.1->cuml-cu11) (1.0.5)\n",
      "Requirement already satisfied: psutil>=5.7.2 in /usr/local/lib/python3.10/dist-packages (from distributed==2023.7.1->cuml-cu11) (5.9.5)\n",
      "Requirement already satisfied: sortedcontainers>=2.0.5 in /usr/local/lib/python3.10/dist-packages (from distributed==2023.7.1->cuml-cu11) (2.4.0)\n",
      "Requirement already satisfied: tblib>=1.6.0 in /usr/local/lib/python3.10/dist-packages (from distributed==2023.7.1->cuml-cu11) (2.0.0)\n",
      "Requirement already satisfied: tornado>=6.0.4 in /usr/local/lib/python3.10/dist-packages (from distributed==2023.7.1->cuml-cu11) (6.3.2)\n",
      "Requirement already satisfied: urllib3>=1.24.3 in /usr/local/lib/python3.10/dist-packages (from distributed==2023.7.1->cuml-cu11) (2.0.4)\n",
      "Collecting pylibraft-cu11==23.8.* (from raft-dask-cu11==23.8.*->cuml-cu11)\n",
      "  Downloading https://pypi.nvidia.com/pylibraft-cu11/pylibraft_cu11-23.8.0-cp310-cp310-manylinux_2_17_x86_64.manylinux2014_x86_64.whl (555.6 MB)\n",
      "     ━━━━━━━━━━━━━━━━━━━━━━━━━━━━━━━━━━━━━━━ 555.6/555.6 MB 3.0 MB/s eta 0:00:00\n",
      "Collecting ucx-py-cu11==0.33.* (from raft-dask-cu11==23.8.*->cuml-cu11)\n",
      "  Downloading https://pypi.nvidia.com/ucx-py-cu11/ucx_py_cu11-0.33.0-cp310-cp310-manylinux_2_17_x86_64.manylinux2014_x86_64.whl (7.9 MB)\n",
      "     ━━━━━━━━━━━━━━━━━━━━━━━━━━━━━━━━━━━━━━━━ 7.9/7.9 MB 115.2 MB/s eta 0:00:00\n",
      "Collecting pylibcugraph-cu11==23.8.* (from cugraph-cu11)\n",
      "  Downloading https://pypi.nvidia.com/pylibcugraph-cu11/pylibcugraph_cu11-23.8.0-cp310-cp310-manylinux_2_17_x86_64.manylinux2014_x86_64.whl (1212.4 MB)\n",
      "     ━━━━━━━━━━━━━━━━━━━━━━━━━━━━━━━━━━━━━━━━ 1.2/1.2 GB 1.5 MB/s eta 0:00:00\n",
      "Requirement already satisfied: attrs>=17.3.0 in /usr/local/lib/python3.10/dist-packages (from aiohttp) (23.1.0)\n",
      "Requirement already satisfied: charset-normalizer<4.0,>=2.0 in /usr/local/lib/python3.10/dist-packages (from aiohttp) (3.2.0)\n",
      "Requirement already satisfied: multidict<7.0,>=4.5 in /usr/local/lib/python3.10/dist-packages (from aiohttp) (6.0.4)\n",
      "Requirement already satisfied: async-timeout<5.0,>=4.0.0a3 in /usr/local/lib/python3.10/dist-packages (from aiohttp) (4.0.3)\n",
      "Requirement already satisfied: yarl<2.0,>=1.0 in /usr/local/lib/python3.10/dist-packages (from aiohttp) (1.9.2)\n",
      "Requirement already satisfied: frozenlist>=1.1.1 in /usr/local/lib/python3.10/dist-packages (from aiohttp) (1.4.0)\n",
      "Requirement already satisfied: aiosignal>=1.1.2 in /usr/local/lib/python3.10/dist-packages (from aiohttp) (1.3.1)\n",
      "Requirement already satisfied: cython in /usr/local/lib/python3.10/dist-packages (from cuda-python<12.0a0,>=11.7.1->cudf-cu11) (0.29.36)\n",
      "Requirement already satisfied: fastrlock>=0.5 in /usr/local/lib/python3.10/dist-packages (from cupy-cuda11x>=12.0.0->cudf-cu11) (0.8.1)\n",
      "Collecting llvmlite<0.41,>=0.40.0dev0 (from numba>=0.57->cudf-cu11)\n",
      "  Downloading llvmlite-0.40.1-cp310-cp310-manylinux_2_17_x86_64.manylinux2014_x86_64.whl (42.1 MB)\n",
      "     ━━━━━━━━━━━━━━━━━━━━━━━━━━━━━━━━━━━━━━━━ 42.1/42.1 MB 11.6 MB/s eta 0:00:00\n",
      "Requirement already satisfied: python-dateutil>=2.8.1 in /usr/local/lib/python3.10/dist-packages (from pandas<1.6.0dev0,>=1.3->cudf-cu11) (2.8.2)\n",
      "Requirement already satisfied: pytz>=2020.1 in /usr/local/lib/python3.10/dist-packages (from pandas<1.6.0dev0,>=1.3->cudf-cu11) (2023.3)\n",
      "Requirement already satisfied: idna>=2.0 in /usr/local/lib/python3.10/dist-packages (from yarl<2.0,>=1.0->aiohttp) (3.4)\n",
      "Requirement already satisfied: zipp>=0.5 in /usr/local/lib/python3.10/dist-packages (from importlib-metadata>=4.13.0->dask==2023.7.1->cuml-cu11) (3.16.2)\n",
      "Requirement already satisfied: MarkupSafe>=2.0 in /usr/local/lib/python3.10/dist-packages (from jinja2>=2.10.3->distributed==2023.7.1->cuml-cu11) (2.1.3)\n",
      "Requirement already satisfied: six>=1.5 in /usr/local/lib/python3.10/dist-packages (from python-dateutil>=2.8.1->pandas<1.6.0dev0,>=1.3->cudf-cu11) (1.16.0)\n",
      "Installing collected packages: ptxcompiler-cu11, nvtx, cubinlinker-cu11, pynvml, pyarrow, protobuf, llvmlite, cupy-cuda11x, cuda-python, ucx-py-cu11, treelite-runtime, treelite, numba, dask, rmm-cu11, distributed, pylibraft-cu11, dask-cuda, cudf-cu11, raft-dask-cu11, pylibcugraph-cu11, dask-cudf-cu11, cuml-cu11, cugraph-cu11\n",
      "  Attempting uninstall: pynvml\n",
      "    Found existing installation: pynvml 11.5.0\n",
      "    Uninstalling pynvml-11.5.0:\n",
      "      Successfully uninstalled pynvml-11.5.0\n",
      "  Attempting uninstall: pyarrow\n",
      "    Found existing installation: pyarrow 9.0.0\n",
      "    Uninstalling pyarrow-9.0.0:\n",
      "      Successfully uninstalled pyarrow-9.0.0\n",
      "  Attempting uninstall: protobuf\n",
      "    Found existing installation: protobuf 3.20.3\n",
      "    Uninstalling protobuf-3.20.3:\n",
      "      Successfully uninstalled protobuf-3.20.3\n",
      "  Attempting uninstall: llvmlite\n",
      "    Found existing installation: llvmlite 0.39.1\n",
      "    Uninstalling llvmlite-0.39.1:\n",
      "      Successfully uninstalled llvmlite-0.39.1\n",
      "  Attempting uninstall: cupy-cuda11x\n",
      "    Found existing installation: cupy-cuda11x 11.0.0\n",
      "    Uninstalling cupy-cuda11x-11.0.0:\n",
      "      Successfully uninstalled cupy-cuda11x-11.0.0\n",
      "  Attempting uninstall: numba\n",
      "    Found existing installation: numba 0.56.4\n",
      "    Uninstalling numba-0.56.4:\n",
      "      Successfully uninstalled numba-0.56.4\n",
      "  Attempting uninstall: dask\n",
      "    Found existing installation: dask 2023.8.0\n",
      "    Uninstalling dask-2023.8.0:\n",
      "      Successfully uninstalled dask-2023.8.0\n",
      "  Attempting uninstall: distributed\n",
      "    Found existing installation: distributed 2023.8.0\n",
      "    Uninstalling distributed-2023.8.0:\n",
      "      Successfully uninstalled distributed-2023.8.0\n",
      "ERROR: pip's dependency resolver does not currently take into account all the packages that are installed. This behaviour is the source of the following dependency conflicts.\n",
      "pandas-gbq 0.17.9 requires pyarrow<10.0dev,>=3.0.0, but you have pyarrow 11.0.0 which is incompatible.\n",
      "tensorflow-metadata 1.14.0 requires protobuf<4.21,>=3.20.3, but you have protobuf 4.24.1 which is incompatible.\n",
      "Successfully installed cubinlinker-cu11-0.3.0.post1 cuda-python-11.8.2 cudf-cu11-23.8.0 cugraph-cu11-23.8.0 cuml-cu11-23.8.0 cupy-cuda11x-12.2.0 dask-2023.7.1 dask-cuda-23.8.0 dask-cudf-cu11-23.8.0 distributed-2023.7.1 llvmlite-0.40.1 numba-0.57.1 nvtx-0.2.6 protobuf-4.24.1 ptxcompiler-cu11-0.7.0.post1 pyarrow-11.0.0 pylibcugraph-cu11-23.8.0 pylibraft-cu11-23.8.0 pynvml-11.4.1 raft-dask-cu11-23.8.0 rmm-cu11-23.8.0 treelite-3.2.0 treelite-runtime-3.2.0 ucx-py-cu11-0.33.0\n",
      "Requirement already satisfied: cupy-cuda11x in /usr/local/lib/python3.10/dist-packages (12.2.0)\n",
      "Requirement already satisfied: numpy<1.27,>=1.20 in /usr/local/lib/python3.10/dist-packages (from cupy-cuda11x) (1.23.5)\n",
      "Requirement already satisfied: fastrlock>=0.5 in /usr/local/lib/python3.10/dist-packages (from cupy-cuda11x) (0.8.1)\n",
      "\n",
      "          ***********************************************************************\n",
      "          The pip install of RAPIDS is complete.\n",
      "          \n",
      "          Please do not run any further installation from the conda based installation methods, as they may cause issues!  \n",
      "          \n",
      "          Please ensure that you're pulling from the git repo to remain updated with the latest working install scripts. \n",
      "r          \n",
      "          Troubleshooting:\n",
      "             - If there is an installation failure, please check back on RAPIDSAI owned templates/notebooks to see how to update your personal files. \n",
      "             - If an installation failure persists when using the latest script, please make an issue on https://github.com/rapidsai-community/rapidsai-csp-utils\n",
      "          ***********************************************************************\n",
      "          \n"
     ]
    }
   ],
   "source": [
    "# This get the RAPIDS-Colab install files and test check your GPU.  Run this and the next cell only.\n",
    "# Please read the output of this cell.  If your Colab Instance is not RAPIDS compatible, it will warn you and give you remediation steps.\n",
    "!git clone https://github.com/rapidsai/rapidsai-csp-utils.git\n",
    "!python rapidsai-csp-utils/colab/pip-install.py"
   ]
  },
  {
   "cell_type": "code",
   "execution_count": 15,
   "metadata": {
    "colab": {
     "base_uri": "https://localhost:8080/"
    },
    "id": "DKJQvmpVBJGG",
    "outputId": "c3283a13-4955-4fe1-e1ab-dc955888df2e"
   },
   "outputs": [
    {
     "name": "stderr",
     "output_type": "stream",
     "text": [
      "/usr/local/lib/python3.10/dist-packages/dateutil/parser/_parser.py:1207: UnknownTimezoneWarning: tzname PST identified but not understood.  Pass `tzinfos` argument in order to correctly return a timezone-aware datetime.  In a future version, this will raise an exception.\n",
      "  warnings.warn(\"tzname {tzname} identified but not understood.  \"\n"
     ]
    },
    {
     "name": "stdout",
     "output_type": "stream",
     "text": [
      "Resampling and averaging done. Saved to 'resampled_cluster_cpu_util.csv'.\n"
     ]
    }
   ],
   "source": [
    "import cudf\n",
    "import pandas as pd\n",
    "\n",
    "# Load the CSV file into a cuDF DataFrame\n",
    "cudf_df = cudf.read_csv('cluster_cpu_util_full.csv')\n",
    "\n",
    "# Convert the 'time' column to datetime type using cuDF\n",
    "cudf_df['time'] = cudf.to_datetime(cudf_df['time'])\n",
    "\n",
    "# Convert cuDF DataFrame to pandas DataFrame for resampling\n",
    "pandas_df = cudf_df.to_pandas()\n",
    "\n",
    "# Group by 'machine_id' and resample the data to hourly intervals using pandas\n",
    "resampled_df = pandas_df.groupby(['machine_id', pd.Grouper(key='time', freq='60T')])['cpu_util'].mean().reset_index()\n",
    "\n",
    "# Convert the resampled pandas DataFrame back to cuDF\n",
    "resampled_cudf_df = cudf.DataFrame.from_pandas(resampled_df)\n",
    "\n",
    "# Save the resampled cuDF DataFrame to a new CSV file\n",
    "resampled_cudf_df.to_pandas().to_csv('resampled_cluster_cpu_util.csv', index=False)\n",
    "\n",
    "print(\"Resampling and averaging done. Saved to 'resampled_cluster_cpu_util.csv'.\")\n"
   ]
  },
  {
   "cell_type": "code",
   "execution_count": 16,
   "metadata": {
    "colab": {
     "base_uri": "https://localhost:8080/"
    },
    "id": "P1Q-ELIwCTst",
    "outputId": "4bf67f5f-90d5-47da-e3c2-2a01baf3e2d4"
   },
   "outputs": [
    {
     "name": "stdout",
     "output_type": "stream",
     "text": [
      "<class 'pandas.core.frame.DataFrame'>\n",
      "RangeIndex: 18626 entries, 0 to 18625\n",
      "Data columns (total 3 columns):\n",
      " #   Column      Non-Null Count  Dtype  \n",
      "---  ------      --------------  -----  \n",
      " 0   machine_id  18626 non-null  object \n",
      " 1   time        18626 non-null  object \n",
      " 2   cpu_util    18456 non-null  float64\n",
      "dtypes: float64(1), object(2)\n",
      "memory usage: 436.7+ KB\n"
     ]
    }
   ],
   "source": [
    "import pandas as pd\n",
    "\n",
    "df = pd.read_csv('resampled_cluster_cpu_util.csv')\n",
    "\n",
    "df.info()"
   ]
  }
 ],
 "metadata": {
  "accelerator": "GPU",
  "colab": {
   "gpuType": "T4",
   "provenance": []
  },
  "kernelspec": {
   "display_name": "Python 3 (ipykernel)",
   "language": "python",
   "name": "python3"
  },
  "language_info": {
   "codemirror_mode": {
    "name": "ipython",
    "version": 3
   },
   "file_extension": ".py",
   "mimetype": "text/x-python",
   "name": "python",
   "nbconvert_exporter": "python",
   "pygments_lexer": "ipython3",
   "version": "3.9.16"
  }
 },
 "nbformat": 4,
 "nbformat_minor": 1
}
